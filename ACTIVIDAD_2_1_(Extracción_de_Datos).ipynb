{
  "nbformat": 4,
  "nbformat_minor": 0,
  "metadata": {
    "colab": {
      "provenance": [],
      "authorship_tag": "ABX9TyOrBSnJjFxsndfyU+Dy6pP1",
      "include_colab_link": true
    },
    "kernelspec": {
      "name": "python3",
      "display_name": "Python 3"
    },
    "language_info": {
      "name": "python"
    }
  },
  "cells": [
    {
      "cell_type": "markdown",
      "metadata": {
        "id": "view-in-github",
        "colab_type": "text"
      },
      "source": [
        "<a href=\"https://colab.research.google.com/github/joseverajim/Actividades-2.1-y-2.2-Extracci-n-de-Datos-/blob/main/ACTIVIDAD_2_1_(Extracci%C3%B3n_de_Datos).ipynb\" target=\"_parent\"><img src=\"https://colab.research.google.com/assets/colab-badge.svg\" alt=\"Open In Colab\"/></a>"
      ]
    },
    {
      "cell_type": "code",
      "execution_count": 1,
      "metadata": {
        "id": "lHS0BGTnKXlU"
      },
      "outputs": [],
      "source": [
        "import pandas as pd\n",
        "from pathlib import Path"
      ]
    },
    {
      "cell_type": "code",
      "source": [
        "xlsx_path = \"/content/Datos_Facturación.xlsx\"\n",
        "df = pd.read_excel(xlsx_path, sheet_name=0, engine=\"openpyxl\")\n",
        "print(df.shape)\n",
        "print(\"Columnas:\", list(df.columns))"
      ],
      "metadata": {
        "colab": {
          "base_uri": "https://localhost:8080/"
        },
        "id": "MqGWJ6QBA68a",
        "outputId": "5e7212af-a75a-4027-986d-0b8b230702f2"
      },
      "execution_count": 10,
      "outputs": [
        {
          "output_type": "stream",
          "name": "stdout",
          "text": [
            "(10895, 13)\n",
            "Columnas: ['Unnamed: 0', 'CVE_DOC', 'CVE_CLPV', 'STATUS', 'CVE_VEND', 'FECHAELAB', 'FECHA_DOC', 'FECHA_ENT', 'FECHA_VEN', 'FECHA_CANCELA', 'CAN_TOT', 'DES_TOT', 'DES_FIN']\n"
          ]
        }
      ]
    },
    {
      "cell_type": "code",
      "source": [
        "# 1) Tipado básico y fechas\n",
        "for col in [\"FECHAELAB\", \"FECHA_DOC\", \"FECHA_ENT\", \"FECHA_VEN\", \"FECHA_CANCELA\"]:\n",
        "    if col in df.columns:\n",
        "        df[col] = pd.to_datetime(df[col], errors=\"coerce\")"
      ],
      "metadata": {
        "id": "XOhuXulIA61U"
      },
      "execution_count": 11,
      "outputs": []
    },
    {
      "cell_type": "code",
      "source": [
        "# Asegurar tipos numéricos donde aplica\n",
        "if \"CVE_VEND\" in df.columns:\n",
        "    df[\"CVE_VEND\"] = pd.to_numeric(df[\"CVE_VEND\"], errors=\"coerce\").astype(\"Int64\")\n",
        "\n",
        "if \"CVE_CLPV\" in df.columns:\n",
        "    df[\"CVE_CLPV\"] = pd.to_numeric(df[\"CVE_CLPV\"], errors=\"coerce\")\n",
        "\n",
        "if \"CAN_TOT\" in df.columns:\n",
        "    df[\"CAN_TOT\"] = pd.to_numeric(df[\"CAN_TOT\"], errors=\"coerce\")"
      ],
      "metadata": {
        "id": "jg21JGb8A6tF"
      },
      "execution_count": 12,
      "outputs": []
    },
    {
      "cell_type": "code",
      "source": [
        "# Comando para omitir pasos al guardar (Saver)\n",
        "def save_csv(dataframe, name, keep_index=False):\n",
        "    path = f\"/content/{name}\"\n",
        "    dataframe.to_csv(path, index=keep_index)\n",
        "    print(f\"Guardado: {path} -> shape={dataframe.shape}\")"
      ],
      "metadata": {
        "id": "Hl8QQmTYA6Yg"
      },
      "execution_count": 14,
      "outputs": []
    },
    {
      "cell_type": "code",
      "source": [
        "# 3) Filtros"
      ],
      "metadata": {
        "id": "z-t-oXNWA6LF"
      },
      "execution_count": null,
      "outputs": []
    },
    {
      "cell_type": "code",
      "source": [
        "# Filtro 1: CVE_CLPV entre 1000 y 2000 (inclusive)\n",
        "# Variables filtradas: CVE_CLPV\n",
        "filtro1 = df[(df[\"CVE_CLPV\"] >= 1000) & (df[\"CVE_CLPV\"] <= 2000)]\n",
        "save_csv(filtro1, \"filtro1_CVE_CLPV.csv\")"
      ],
      "metadata": {
        "colab": {
          "base_uri": "https://localhost:8080/"
        },
        "id": "sdSqTBcLA5-Y",
        "outputId": "8fc39292-2e48-454e-ab10-14181c27d431"
      },
      "execution_count": 15,
      "outputs": [
        {
          "output_type": "stream",
          "name": "stdout",
          "text": [
            "Guardado: /content/filtro1_CVE_CLPV.csv -> shape=(581, 13)\n"
          ]
        }
      ]
    },
    {
      "cell_type": "code",
      "source": [
        "# Filtro 2: CVE_VEND todas excepto 4 y 5\n",
        "# Variables filtradas: CVE_VEND (se conservan NaN)\n",
        "filtro2 = df[~df[\"CVE_VEND\"].isin([4, 5])]\n",
        "save_csv(filtro2, \"filtro2_CVE_VEND.csv\")"
      ],
      "metadata": {
        "colab": {
          "base_uri": "https://localhost:8080/"
        },
        "id": "J0v1m2IeGmtg",
        "outputId": "78dfac39-0a68-499a-d1cf-eeb467dd26b8"
      },
      "execution_count": 16,
      "outputs": [
        {
          "output_type": "stream",
          "name": "stdout",
          "text": [
            "Guardado: /content/filtro2_CVE_VEND.csv -> shape=(10090, 13)\n"
          ]
        }
      ]
    },
    {
      "cell_type": "code",
      "source": [
        "# Filtro 3: FECHA_ENT = 28/02/2022 (igualdad por día; ignora hora)\n",
        "# Variables filtradas: FECHA_ENT\n",
        "fecha_obj = pd.to_datetime(\"2022-02-28\").date()\n",
        "filtro3 = df[df[\"FECHA_ENT\"].dt.date == fecha_obj]\n",
        "save_csv(filtro3, \"filtro3_FECHA_ENT.csv\")"
      ],
      "metadata": {
        "colab": {
          "base_uri": "https://localhost:8080/"
        },
        "id": "g-X_3yEVGmmp",
        "outputId": "05457bf1-034d-4263-af86-4a26df53399e"
      },
      "execution_count": 17,
      "outputs": [
        {
          "output_type": "stream",
          "name": "stdout",
          "text": [
            "Guardado: /content/filtro3_FECHA_ENT.csv -> shape=(17, 13)\n"
          ]
        }
      ]
    },
    {
      "cell_type": "code",
      "source": [
        "# Filtro 4: CAN_TOT < 5951.7  OR  STATUS == \"E\"\n",
        "# Variables filtradas: CAN_TOT, STATUS\n",
        "cond_can = df[\"CAN_TOT\"] < 5951.7\n",
        "cond_status = df[\"STATUS\"] == \"E\"\n",
        "filtro4 = df[cond_can | cond_status]\n",
        "save_csv(filtro4, \"filtro4_CAN_TOT_STATUS.csv\")"
      ],
      "metadata": {
        "colab": {
          "base_uri": "https://localhost:8080/"
        },
        "id": "4gsnIVAwGmi4",
        "outputId": "5e75162d-8d8e-4333-aedd-dbf0356f2536"
      },
      "execution_count": 18,
      "outputs": [
        {
          "output_type": "stream",
          "name": "stdout",
          "text": [
            "Guardado: /content/filtro4_CAN_TOT_STATUS.csv -> shape=(10817, 13)\n"
          ]
        }
      ]
    },
    {
      "cell_type": "code",
      "source": [
        "# Filtro 5: Solo columnas CVE_DOC, FECHA_ENT, FECHA_VEN, CAN_TOT\n",
        "# Variables filtradas: selección de columnas\n",
        "cols5 = [\"CVE_DOC\", \"FECHA_ENT\", \"FECHA_VEN\", \"CAN_TOT\"]\n",
        "filtro5 = df.loc[:, cols5]\n",
        "save_csv(filtro5, \"filtro5_columnas.csv\")"
      ],
      "metadata": {
        "colab": {
          "base_uri": "https://localhost:8080/"
        },
        "id": "KxZm3-HuGmLy",
        "outputId": "b375fa3a-49be-4b52-baa7-48bf43c87b99"
      },
      "execution_count": 19,
      "outputs": [
        {
          "output_type": "stream",
          "name": "stdout",
          "text": [
            "Guardado: /content/filtro5_columnas.csv -> shape=(10895, 4)\n"
          ]
        }
      ]
    },
    {
      "cell_type": "code",
      "source": [
        "# Filtro 6: Solo filas 7001-7099 (1-indexadas)\n",
        "# Nota: iloc es base 0; 7001..7099 => iloc[7000:7099] (incluye 7000 y excluye 7099)\n",
        "# Esto devuelve 99 filas (7001 a 7099 inclusive).\n",
        "filtro6 = df.iloc[7000:7099]\n",
        "save_csv(filtro6, \"filtro6_filas7001_7099.csv\")"
      ],
      "metadata": {
        "colab": {
          "base_uri": "https://localhost:8080/"
        },
        "id": "oxDaOmXDGkzE",
        "outputId": "59d1e91d-8282-4017-ef6f-03f784ce6c05"
      },
      "execution_count": 20,
      "outputs": [
        {
          "output_type": "stream",
          "name": "stdout",
          "text": [
            "Guardado: /content/filtro6_filas7001_7099.csv -> shape=(99, 13)\n"
          ]
        }
      ]
    },
    {
      "cell_type": "code",
      "source": [
        "# Filtro 7: Index = CVE_VEND (valores: 1, 2), mostrar FECHAELAB\n",
        "# Variables filtradas: CVE_VEND, FECHAELAB; se guarda conservando el índice\n",
        "filtro7 = (\n",
        "    df[df[\"CVE_VEND\"].isin([1, 2])]\n",
        "    .set_index(\"CVE_VEND\")[[\"FECHAELAB\"]]\n",
        "    .sort_index()\n",
        ")\n",
        "save_csv(filtro7, \"filtro7_index_CVEVEND.csv\", keep_index=True)"
      ],
      "metadata": {
        "colab": {
          "base_uri": "https://localhost:8080/"
        },
        "id": "syTcVy7tH9p2",
        "outputId": "70b8969d-a0d4-4fc0-d5d6-214212a40c44"
      },
      "execution_count": 21,
      "outputs": [
        {
          "output_type": "stream",
          "name": "stdout",
          "text": [
            "Guardado: /content/filtro7_index_CVEVEND.csv -> shape=(8665, 1)\n"
          ]
        }
      ]
    },
    {
      "cell_type": "code",
      "source": [
        "print(\"\\nResumen shapes:\")\n",
        "print({\n",
        "    \"filtro1\": filtro1.shape,\n",
        "    \"filtro2\": filtro2.shape,\n",
        "    \"filtro3\": filtro3.shape,\n",
        "    \"filtro4\": filtro4.shape,\n",
        "    \"filtro5\": filtro5.shape,\n",
        "    \"filtro6\": filtro6.shape,\n",
        "    \"filtro7\": filtro7.shape\n",
        "})"
      ],
      "metadata": {
        "colab": {
          "base_uri": "https://localhost:8080/"
        },
        "id": "KMetiRr8IEZV",
        "outputId": "f88a7117-3fc2-4124-d628-0c18beb4c05a"
      },
      "execution_count": 22,
      "outputs": [
        {
          "output_type": "stream",
          "name": "stdout",
          "text": [
            "\n",
            "Resumen shapes:\n",
            "{'filtro1': (581, 13), 'filtro2': (10090, 13), 'filtro3': (17, 13), 'filtro4': (10817, 13), 'filtro5': (10895, 4), 'filtro6': (99, 13), 'filtro7': (8665, 1)}\n"
          ]
        }
      ]
    }
  ]
}