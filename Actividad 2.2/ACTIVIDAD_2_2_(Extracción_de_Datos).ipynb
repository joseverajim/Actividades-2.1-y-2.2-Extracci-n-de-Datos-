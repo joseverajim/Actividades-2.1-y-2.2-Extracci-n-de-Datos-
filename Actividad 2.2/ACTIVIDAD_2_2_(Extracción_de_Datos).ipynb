{
  "nbformat": 4,
  "nbformat_minor": 0,
  "metadata": {
    "colab": {
      "provenance": [],
      "authorship_tag": "ABX9TyMWYhDT+W0lbHw33XdQOtU2",
      "include_colab_link": true
    },
    "kernelspec": {
      "name": "python3",
      "display_name": "Python 3"
    },
    "language_info": {
      "name": "python"
    }
  },
  "cells": [
    {
      "cell_type": "markdown",
      "metadata": {
        "id": "view-in-github",
        "colab_type": "text"
      },
      "source": [
        "<a href=\"https://colab.research.google.com/github/joseverajim/Actividades-2.1-y-2.2-Extracci-n-de-Datos-/blob/main/Actividad%202.2/ACTIVIDAD_2_2_(Extracci%C3%B3n_de_Datos).ipynb\" target=\"_parent\"><img src=\"https://colab.research.google.com/assets/colab-badge.svg\" alt=\"Open In Colab\"/></a>"
      ]
    },
    {
      "cell_type": "code",
      "execution_count": 1,
      "metadata": {
        "id": "DkEz6bPJP8vi"
      },
      "outputs": [],
      "source": [
        "import pandas as pd\n",
        "import os"
      ]
    },
    {
      "cell_type": "code",
      "source": [
        "IN_PATH = \"tokyo.xlsx\"\n",
        "OUT_DIR = \"Actividad 2.2\"\n",
        "os.makedirs(OUT_DIR, exist_ok=True)\n",
        "df = pd.read_excel(IN_PATH)\n",
        "df.columns = [c.strip() for c in df.columns]"
      ],
      "metadata": {
        "id": "TI-o4hsgX60A"
      },
      "execution_count": 4,
      "outputs": []
    },
    {
      "cell_type": "code",
      "source": [
        "# Definición de columnas\n",
        "col_host_name   = \"host_name\"\n",
        "col_host_since  = \"host_since\"\n",
        "col_resp_time   = \"host_response_time\"\n",
        "col_room_type   = \"room_type\"\n",
        "col_beds        = \"beds\"\n",
        "col_superhost   = \"host_is_superhost\"\n",
        "def save_csv(dfx, name):\n",
        "    dfx.to_csv(os.path.join(OUT_DIR, name), index=False)"
      ],
      "metadata": {
        "id": "8nQw-Kt2X7Sx"
      },
      "execution_count": 6,
      "outputs": []
    },
    {
      "cell_type": "code",
      "source": [
        "# (a) 5 host_name diferentes\n",
        "cinco_hosts = df[col_host_name].dropna().astype(str).drop_duplicates().head(5)\n",
        "fa = df[df[col_host_name].astype(str).isin(cinco_hosts)]\n",
        "save_csv(fa, \"a_5_hostnames.csv\")"
      ],
      "metadata": {
        "id": "06ITgPcvX7ar"
      },
      "execution_count": 7,
      "outputs": []
    },
    {
      "cell_type": "code",
      "source": [
        "# (b) Host_since > 2020-12-31\n",
        "fechas = pd.to_datetime(df[col_host_since], errors=\"coerce\")\n",
        "fb = df[fechas > pd.Timestamp(\"2020-12-31\")]\n",
        "save_csv(fb, \"b_despues_2020.csv\")"
      ],
      "metadata": {
        "id": "M4tPchiWX7ic"
      },
      "execution_count": 8,
      "outputs": []
    },
    {
      "cell_type": "code",
      "source": [
        "# (c) Respuesta en ≤ 1 día\n",
        "t = df[col_resp_time].astype(str).str.lower()\n",
        "fc = df[t.str.contains(\"within a day|within one day|en un d[ií]a\", regex=True, na=False)]\n",
        "save_csv(fc, \"c_responden_en_1_dia.csv\")"
      ],
      "metadata": {
        "id": "WEadaEnhbxkG"
      },
      "execution_count": 9,
      "outputs": []
    },
    {
      "cell_type": "code",
      "source": [
        "# (d) Filas múltiplos de 200, desde 400 (índice 1-based)\n",
        "df_reset = df.reset_index(drop=True)\n",
        "num_fila = df_reset.index + 1\n",
        "fd = df_reset[(num_fila % 200 == 0) & (num_fila >= 400)]\n",
        "save_csv(fd, \"d_multiplos_200_desde_400.csv\")"
      ],
      "metadata": {
        "id": "0ug520AubxLC"
      },
      "execution_count": 10,
      "outputs": []
    },
    {
      "cell_type": "code",
      "source": [
        "# (e) room_type ∈ {Entire home/apt, Entire home, Private room}\n",
        "r = df[col_room_type].astype(str).str.lower().str.strip()\n",
        "fe = df[r.isin([\"entire home/apt\", \"entire home\", \"private room\"])]\n",
        "save_csv(fe, \"e_entire_home_y_private_room.csv\")"
      ],
      "metadata": {
        "id": "tPZUxV5Ebwss"
      },
      "execution_count": 11,
      "outputs": []
    },
    {
      "cell_type": "code",
      "source": [
        "# (f) beds ≤ 4\n",
        "camas = pd.to_numeric(df[col_beds], errors=\"coerce\")\n",
        "ff = df[camas <= 4]\n",
        "save_csv(ff, \"f_hasta_4_camas.csv\")"
      ],
      "metadata": {
        "id": "06Hy7i_pb7PM"
      },
      "execution_count": 12,
      "outputs": []
    },
    {
      "cell_type": "code",
      "source": [
        "# (g) Superhost verdadero\n",
        "raw = df[col_superhost].astype(str).str.lower().str.strip()\n",
        "fg = df[raw.isin([\"t\", \"true\", \"1\", \"y\", \"yes\", \"sí\", \"si\"])]\n",
        "save_csv(fg, \"g_superhost.csv\")"
      ],
      "metadata": {
        "id": "aTpJ3Yarb-vr"
      },
      "execution_count": 13,
      "outputs": []
    },
    {
      "cell_type": "code",
      "source": [
        "# (h) Columnas impares (1,3,5,...)\n",
        "fh = df.iloc[:, ::2]\n",
        "save_csv(fh, \"h_columnas_impares.csv\")"
      ],
      "metadata": {
        "id": "RlwUpOC1b-13"
      },
      "execution_count": 14,
      "outputs": []
    }
  ]
}